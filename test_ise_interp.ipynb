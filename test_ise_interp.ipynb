{
 "cells": [
  {
   "cell_type": "code",
   "execution_count": 1,
   "metadata": {},
   "outputs": [],
   "source": [
    "def pick_best(methods: list) -> str:\n",
    "    shortest = float('inf'), 0\n",
    "    for method in methods:\n",
    "        if len(method) < shortest[0]:\n",
    "            shortest = len(method), method\n",
    "    return shortest[1]"
   ]
  },
  {
   "cell_type": "code",
   "execution_count": 2,
   "metadata": {},
   "outputs": [],
   "source": [
    "def declare(var_name: str, n: int = 0):\n",
    "    return f'~{var_name}{zero_to_n(n, var_name)}'"
   ]
  },
  {
   "cell_type": "code",
   "execution_count": 3,
   "metadata": {},
   "outputs": [],
   "source": [
    "def negate(var: str, temp_var: str):\n",
    "    'Declare a new variable, set the new var to be -1, and multiply the two together'\n",
    "    return f'~{temp_var},{temp_var}1:{var}{temp_var}'"
   ]
  },
  {
   "cell_type": "code",
   "execution_count": 4,
   "metadata": {},
   "outputs": [],
   "source": [
    "def zero_to_n(n: int, var: str):\n",
    "    neg = n < 0\n",
    "    n = -n if neg else n\n",
    "    out = ''\n",
    "    if n != 0:\n",
    "        if n // 9 != 0:\n",
    "            out += f'{zero_to_n(n // 9, var)}:{var}9'\n",
    "        if n % 9 != 0:\n",
    "            out += f'{\",\" if neg else \".\"}{var}{n % 9}'\n",
    "    return out"
   ]
  },
  {
   "cell_type": "code",
   "execution_count": 5,
   "metadata": {},
   "outputs": [],
   "source": [
    "def add_using_adds(f: int, t: int, var_name: str):\n",
    "    diff = t - f\n",
    "    if diff == 0:\n",
    "        return ''\n",
    "    return f'{\",\" if diff < 0 else \".\"}{var_name}9'*(abs(diff) // 9) + f'{\",\" if diff < 0 else \".\"}{var_name}{abs(diff) % 9}' * (diff % 9 != 0)"
   ]
  },
  {
   "cell_type": "code",
   "execution_count": 6,
   "metadata": {},
   "outputs": [],
   "source": [
    "def add_using_mul(f: int, t: int, var_name: str):\n",
    "    diff = t - f\n",
    "    out = ''\n",
    "    if diff != 0:\n",
    "        neg = diff < 0\n",
    "        mul = (f // t) if neg else (t // f)\n",
    "        if mul > 1:\n",
    "            out += f'{\";\" if neg else \":\"}{var_name}{min(mul, 9)}{add_using_mul(int(f * (1/min(mul, 9) if neg else min(mul, 9))), t, var_name)}'\n",
    "        else:\n",
    "            out += add_using_adds(f, t, var_name)\n",
    "    return out"
   ]
  },
  {
   "cell_type": "code",
   "execution_count": 7,
   "metadata": {},
   "outputs": [],
   "source": [
    "def print_string(string: str, var_name: str):\n",
    "    chars = [ord(char) for char in string]\n",
    "    out = ''\n",
    "    for i, char in enumerate(chars):\n",
    "        if i == 0:\n",
    "            out += f'{declare(var_name, char)}`{var_name}'\n",
    "            continue\n",
    "        prev = chars[i-1]\n",
    "        # Sometimes it is easier to redefine the variable\n",
    "        options = (\n",
    "        declare(var_name, char),\n",
    "        add_using_adds(prev, char, var_name),\n",
    "        add_using_mul(prev, char, var_name),\n",
    "        )\n",
    "        out += pick_best(options) + f'`{var_name}'\n",
    "    return out"
   ]
  },
  {
   "cell_type": "code",
   "execution_count": 8,
   "metadata": {},
   "outputs": [
    {
     "data": {
      "text/plain": [
       "'~!.!8:!9`!.!9.!9.!9.!2`!.!7`!`!.!3`!;!3,!5`!:!2.!9.!9.!5`!.!9.!9.!6`!.!3`!,!6`!,!8`!;!3`!'"
      ]
     },
     "execution_count": 8,
     "metadata": {},
     "output_type": "execute_result"
    }
   ],
   "source": [
    "print_string('Hello World!', '!')"
   ]
  },
  {
   "cell_type": "code",
   "execution_count": null,
   "metadata": {},
   "outputs": [],
   "source": []
  }
 ],
 "metadata": {
  "interpreter": {
   "hash": "aee8b7b246df8f9039afb4144a1f6fd8d2ca17a180786b69acc140d282b71a49"
  },
  "kernelspec": {
   "display_name": "Python 3.9.4 64-bit",
   "language": "python",
   "name": "python3"
  },
  "language_info": {
   "codemirror_mode": {
    "name": "ipython",
    "version": 3
   },
   "file_extension": ".py",
   "mimetype": "text/x-python",
   "name": "python",
   "nbconvert_exporter": "python",
   "pygments_lexer": "ipython3",
   "version": "3.9.4"
  },
  "orig_nbformat": 4
 },
 "nbformat": 4,
 "nbformat_minor": 2
}
